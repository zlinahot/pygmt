{
  "cells": [
    {
      "cell_type": "code",
      "execution_count": null,
      "metadata": {
        "collapsed": false
      },
      "outputs": [],
      "source": [
        "%matplotlib inline"
      ]
    },
    {
      "cell_type": "markdown",
      "metadata": {},
      "source": [
        "\n# 3D Scatter plots\n\nThe :meth:`pygmt.Figure.plot3d` method can be used to plot symbols in 3D.\nIn the example below, we show how the\n`Iris flower dataset <https://en.wikipedia.org/wiki/Iris_flower_data_set>`__\ncan be visualized using a perspective 3-dimensional plot. The ``region``\nargument has to include the $x$, $y$, $z$ axis limits in the\nform of (xmin, xmax, ymin, ymax, zmin, zmax), which can be done automatically\nusing :meth:`pygmt.info`. To include the z-axis stick, set ``frame`` as a\nminimum to something like ``frame=[\"WsNeZ\", \"zaf\"]``. Use ``perspective`` to\ncontrol the azimuth and elevation angle of the view, and ``zscale`` to adjust\nthe vertical exaggeration factor.\n"
      ]
    },
    {
      "cell_type": "code",
      "execution_count": null,
      "metadata": {
        "collapsed": false
      },
      "outputs": [],
      "source": [
        "import pandas as pd\nimport pygmt\n\n# Load sample iris data, and convert 'species' column to categorical dtype\ndf = pd.read_csv(\"https://github.com/mwaskom/seaborn-data/raw/master/iris.csv\")\ndf[\"species\"] = df.species.astype(dtype=\"category\")\n\n# Use pygmt.info to get region bounds (xmin, xmax, ymin, ymax, zmin, zmax)\n# The below example will return a numpy array like [0., 3., 4., 8., 1., 7.]\nregion = pygmt.info(\n    table=df[[\"petal_width\", \"sepal_length\", \"petal_length\"]],  # x, y, z columns\n    per_column=True,  # report output as a numpy array\n    spacing=\"1/2/0.5\",  # rounds x, y and z intervals by 1, 2 and 0.5 respectively\n)\n\n# Make our 3D scatter plot, coloring each of the 3 species differently\nfig = pygmt.Figure()\npygmt.makecpt(cmap=\"cubhelix\", color_model=\"+c\", series=(0, 3, 1))\nfig.plot3d(\n    x=df.petal_width,\n    y=df.sepal_length,\n    z=df.petal_length,\n    sizes=0.1 * df.sepal_width,  # Vary each symbol size according to a data column\n    color=df.species.cat.codes.astype(int),  # Points colored by categorical number code\n    cmap=True,  # Use colormap created by makecpt\n    region=region,  # (xmin, xmax, ymin, ymax, zmin, zmax)\n    frame=[\n        \"WsNeZ3\",  # z axis label positioned on 3rd corner\n        'xafg+l\"Petal Width\"',\n        'yafg+l\"Sepal Length\"',\n        'zafg+l\"Petal Length\"',\n    ],\n    style=\"uc\",  # 3D cUbe, with size in centimeter units\n    perspective=[315, 25],  # Azimuth NorthWest (315\u00b0), at elevation 25\u00b0\n    zscale=1.5,  # Vertical exaggeration factor\n)\nfig.show()"
      ]
    }
  ],
  "metadata": {
    "kernelspec": {
      "display_name": "Python 3",
      "language": "python",
      "name": "python3"
    },
    "language_info": {
      "codemirror_mode": {
        "name": "ipython",
        "version": 3
      },
      "file_extension": ".py",
      "mimetype": "text/x-python",
      "name": "python",
      "nbconvert_exporter": "python",
      "pygments_lexer": "ipython3",
      "version": "3.9.0"
    }
  },
  "nbformat": 4,
  "nbformat_minor": 0
}