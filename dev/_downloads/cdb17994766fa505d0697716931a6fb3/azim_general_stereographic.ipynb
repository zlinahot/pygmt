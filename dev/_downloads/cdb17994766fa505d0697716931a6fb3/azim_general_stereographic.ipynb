{
  "cells": [
    {
      "cell_type": "code",
      "execution_count": null,
      "metadata": {
        "collapsed": false
      },
      "outputs": [],
      "source": [
        "%matplotlib inline"
      ]
    },
    {
      "cell_type": "markdown",
      "metadata": {},
      "source": [
        "\n# General Stereographic\n\nThis map projection is a conformal, azimuthal projection. It is mainly used with\na projection center in one of the poles. Then meridians appear as straight lines\nand cross latitudes at a right angle. Unlike the azimuthal equidistant projection,\nthe distances in this projection are not displayed in correct proportions.\nIt is often used as a hemisphere map like the Lambert Azimuthal Equal Area\nprojection.\n\n``slon0/lat0[/horizon]/scale`` or ``Slon0/lat0[/horizon]/width``\n\n``lon0/lat0`` specifies the projection center, the optional ``horizon`` parameter\nspecifies the max distance from projection center (in degrees, < 180, default 90).\n\nThis projection can be displayed:\n\n* With map boundaries coinciding with longitude and latitude:\n  ``region`` specified via ``xmin/xmax/ymin/ymax``\n* As a map with rectangular boundaries: ``region`` specified as lower left and\n  upper right corner ``xlleft/ylleft/xuright/yurightr``. Note the appended ``r``.\n"
      ]
    },
    {
      "cell_type": "code",
      "execution_count": null,
      "metadata": {
        "collapsed": false
      },
      "outputs": [],
      "source": [
        "import pygmt\n\nfig = pygmt.Figure()\nfig.coast(region=\"4/14/52/57\", projection=\"S0/90/4.5i\", frame=\"ag\", land=\"gray\")\nfig.show()"
      ]
    }
  ],
  "metadata": {
    "kernelspec": {
      "display_name": "Python 3",
      "language": "python",
      "name": "python3"
    },
    "language_info": {
      "codemirror_mode": {
        "name": "ipython",
        "version": 3
      },
      "file_extension": ".py",
      "mimetype": "text/x-python",
      "name": "python",
      "nbconvert_exporter": "python",
      "pygments_lexer": "ipython3",
      "version": "3.9.0"
    }
  },
  "nbformat": 4,
  "nbformat_minor": 0
}