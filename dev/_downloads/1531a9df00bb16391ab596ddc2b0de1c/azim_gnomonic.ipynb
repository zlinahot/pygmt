{
  "cells": [
    {
      "cell_type": "code",
      "execution_count": null,
      "metadata": {
        "collapsed": false
      },
      "outputs": [],
      "source": [
        "%matplotlib inline"
      ]
    },
    {
      "cell_type": "markdown",
      "metadata": {},
      "source": [
        "\n# Gnomonic\n\nThe point of perspective of the gnomonic projection lies at the center of the\nearth. As a consequence great circles (orthodromes) on the surface of the earth\nare displayed as straight lines, which makes it suitable for distance estimation\nfor navigational purposes. It is neither conformal nor equal-area and the\ndistortion increases greatly with distance to the projection center. It follows\nthat the scope of application is restricted to a small area around the\nprojection center (at a maximum of 60\u00b0).\n\n``flon0/lat0[/horizon]/scale`` or ``Flon0/lat0[/horizon]/width``\n\n``lon0/lat0`` specify the projection center, the optional parameter ``horizon``\nspecifies the max distance from projection center (in degrees, < 90, default 60).\n"
      ]
    },
    {
      "cell_type": "code",
      "execution_count": null,
      "metadata": {
        "collapsed": false
      },
      "outputs": [],
      "source": [
        "import pygmt\n\nfig = pygmt.Figure()\nfig.coast(projection=\"F-90/15/4.5i\", region=\"g\", frame=\"20g20\", land=\"gray\")\nfig.show()"
      ]
    }
  ],
  "metadata": {
    "kernelspec": {
      "display_name": "Python 3",
      "language": "python",
      "name": "python3"
    },
    "language_info": {
      "codemirror_mode": {
        "name": "ipython",
        "version": 3
      },
      "file_extension": ".py",
      "mimetype": "text/x-python",
      "name": "python",
      "nbconvert_exporter": "python",
      "pygments_lexer": "ipython3",
      "version": "3.9.0"
    }
  },
  "nbformat": 4,
  "nbformat_minor": 0
}