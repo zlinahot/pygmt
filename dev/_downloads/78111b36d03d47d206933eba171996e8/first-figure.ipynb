{
  "cells": [
    {
      "cell_type": "code",
      "execution_count": null,
      "metadata": {
        "collapsed": false
      },
      "outputs": [],
      "source": [
        "%matplotlib inline"
      ]
    },
    {
      "cell_type": "markdown",
      "metadata": {},
      "source": [
        "\n# Making your first figure\n\nWelcome to PyGMT! Here we'll cover some of basic concepts, like creating simple figures\nand naming conventions.\n"
      ]
    },
    {
      "cell_type": "markdown",
      "metadata": {},
      "source": [
        "## Loading the library\n\nAll modules and figure generation is accessible from the :mod:`pygmt` top level\npackage:\n\n"
      ]
    },
    {
      "cell_type": "code",
      "execution_count": null,
      "metadata": {
        "collapsed": false
      },
      "outputs": [],
      "source": [
        "import pygmt"
      ]
    },
    {
      "cell_type": "markdown",
      "metadata": {},
      "source": [
        "## Creating figures\n\nAll figure generation in PyGMT is handled by the :class:`pygmt.Figure` class.\nStart a new figure by creating an instance of this class:\n\n"
      ]
    },
    {
      "cell_type": "code",
      "execution_count": null,
      "metadata": {
        "collapsed": false
      },
      "outputs": [],
      "source": [
        "fig = pygmt.Figure()"
      ]
    },
    {
      "cell_type": "markdown",
      "metadata": {},
      "source": [
        "Add elements to the figure using its methods. For example, let's start a map with an\nautomatic frame and ticks around a given longitude and latitude bound, set the\nprojection to Mercator (``M``), and the map width to 8 inches:\n\n"
      ]
    },
    {
      "cell_type": "code",
      "execution_count": null,
      "metadata": {
        "collapsed": false
      },
      "outputs": [],
      "source": [
        "fig.basemap(region=[-90, -70, 0, 20], projection=\"M8i\", frame=True)"
      ]
    },
    {
      "cell_type": "markdown",
      "metadata": {},
      "source": [
        "Now we can add coastlines using :meth:`pygmt.Figure.coast` to this map using the\ndefault resolution, line width, and color:\n\n"
      ]
    },
    {
      "cell_type": "code",
      "execution_count": null,
      "metadata": {
        "collapsed": false
      },
      "outputs": [],
      "source": [
        "fig.coast(shorelines=True)"
      ]
    },
    {
      "cell_type": "markdown",
      "metadata": {},
      "source": [
        "To see the figure, call :meth:`pygmt.Figure.show`:\n\n"
      ]
    },
    {
      "cell_type": "code",
      "execution_count": null,
      "metadata": {
        "collapsed": false
      },
      "outputs": [],
      "source": [
        "fig.show()"
      ]
    },
    {
      "cell_type": "markdown",
      "metadata": {},
      "source": [
        "You can also set the map region, projection, and frame type directly in other methods\nwithout calling :meth:`gmt.Figure.basemap`:\n\n"
      ]
    },
    {
      "cell_type": "code",
      "execution_count": null,
      "metadata": {
        "collapsed": false
      },
      "outputs": [],
      "source": [
        "fig = pygmt.Figure()\nfig.coast(shorelines=True, region=[-90, -70, 0, 20], projection=\"M8i\", frame=True)\nfig.show()"
      ]
    },
    {
      "cell_type": "markdown",
      "metadata": {},
      "source": [
        "## Saving figures\n\nUse the method :meth:`pygmt.Figure.savefig` to save your figure to a file. The figure\nformat is inferred from the extension.\n\n.. code:: python\n\n    fig.savefig(\"central-america-shorelines.png\")\n\n## Note for experienced GMT users\n\nYou\u2019ll probably have noticed several things that are different from classic\ncommand-line GMT. Many of these changes reflect the new GMT modern execution mode that\nare part of GMT 6. A few are PyGMT exclusive (like the ``savefig`` method).\n\n1. The name of method is ``coast`` instead of ``pscoast``. As a general rule, all\n   ``ps*`` modules had their ``ps`` prefix removed. The exceptions are:\n   ``psxy`` which is now ``plot``, ``psxyz`` which is now ``plot3d``, and ``psscale``\n   which is now ``colorbar``.\n2. The arguments don't use the GMT 1-letter syntax (R, J, B, etc). We use longer\n   aliases for these arguments and have some Python exclusive names. The mapping\n   between the GMT arguments and their Python counterparts should be straight forward.\n3. Arguments like ``region`` can take lists as well as strings like ``1/2/3/4``.\n4. If a GMT argument has no options (like ``-B`` instead of ``-Baf``), use a ``True``\n   in Python. An empty string would also be acceptable. For repeated arguments, such\n   as ``-B+Loleron -Bxaf -By+lm``, provide a list: ``frame=[\"+Loleron\", \"xaf\", \"y+lm\"]``.\n5. There is no output redirecting to a PostScript file. The figure is generated in the\n   background and will only be shown or saved when you ask for it.\n\n"
      ]
    }
  ],
  "metadata": {
    "kernelspec": {
      "display_name": "Python 3",
      "language": "python",
      "name": "python3"
    },
    "language_info": {
      "codemirror_mode": {
        "name": "ipython",
        "version": 3
      },
      "file_extension": ".py",
      "mimetype": "text/x-python",
      "name": "python",
      "nbconvert_exporter": "python",
      "pygments_lexer": "ipython3",
      "version": "3.9.0"
    }
  },
  "nbformat": 4,
  "nbformat_minor": 0
}