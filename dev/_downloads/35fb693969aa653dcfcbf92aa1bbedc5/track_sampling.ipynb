{
  "cells": [
    {
      "cell_type": "code",
      "execution_count": null,
      "metadata": {
        "collapsed": false
      },
      "outputs": [],
      "source": [
        "%matplotlib inline"
      ]
    },
    {
      "cell_type": "markdown",
      "metadata": {},
      "source": [
        "\n# Sampling along tracks\n\nThe :func:`pygmt.grdtrack` function samples a raster grid's value along specified\npoints. We will need to input a 2D raster to ``grid`` which can be an\n``xarray.DataArray``. The ``points`` parameter can be a ``pandas.DataFrame`` table where\nthe first two columns are x and y (or longitude and latitude). Note also that there is a\n``newcolname`` parameter that will be used to name the new column of values we sampled\nfrom the grid.\n\nAlternatively, we can provide a NetCDF file path to ``grid``. An ASCII file path can\nalso be accepted for ``points``, but an ``outfile`` parameter will then need to be set\nto name the resulting output ASCII file.\n"
      ]
    },
    {
      "cell_type": "code",
      "execution_count": null,
      "metadata": {
        "collapsed": false
      },
      "outputs": [],
      "source": [
        "import pygmt\n\n# Load sample grid and point datasets\ngrid = pygmt.datasets.load_earth_relief()\npoints = pygmt.datasets.load_ocean_ridge_points()\n# Sample the bathymetry along the world's ocean ridges at specified track points\ntrack = pygmt.grdtrack(points=points, grid=grid, newcolname=\"bathymetry\")\n\nfig = pygmt.Figure()\n# Plot the earth relief grid on Cylindrical Stereographic projection, masking land areas\nfig.basemap(region=\"g\", frame=True, projection=\"Cyl_stere/150/-20/8i\")\nfig.grdimage(grid=grid, cmap=\"gray\")\nfig.coast(land=\"#666666\")\n# Plot using circles (c) of 0.15cm, the sampled bathymetry points\n# Points are colored using elevation values (normalized for visual purposes)\nfig.plot(\n    x=track.longitude,\n    y=track.latitude,\n    style=\"c0.15c\",\n    cmap=\"terra\",\n    color=(track.bathymetry - track.bathymetry.mean()) / track.bathymetry.std(),\n)\nfig.show()"
      ]
    }
  ],
  "metadata": {
    "kernelspec": {
      "display_name": "Python 3",
      "language": "python",
      "name": "python3"
    },
    "language_info": {
      "codemirror_mode": {
        "name": "ipython",
        "version": 3
      },
      "file_extension": ".py",
      "mimetype": "text/x-python",
      "name": "python",
      "nbconvert_exporter": "python",
      "pygments_lexer": "ipython3",
      "version": "3.9.0"
    }
  },
  "nbformat": 4,
  "nbformat_minor": 0
}