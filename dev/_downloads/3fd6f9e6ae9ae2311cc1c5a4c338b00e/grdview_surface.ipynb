{
  "cells": [
    {
      "cell_type": "code",
      "execution_count": null,
      "metadata": {
        "collapsed": false
      },
      "outputs": [],
      "source": [
        "%matplotlib inline"
      ]
    },
    {
      "cell_type": "markdown",
      "metadata": {},
      "source": [
        "\n# Plotting a surface\n\nThe :meth:`pygmt.Figure.grdview()` method can plot 3-D surfaces with ``surftype=\"s\"``. Here,\nwe supply the data as an :class:`xarray.DataArray` with the coordinate vectors ``x`` and\n``y`` defined. Note that the ``perspective`` argument here controls the azimuth and\nelevation angle of the view. We provide a list of two arguments to ``frame`` \u2014 the\nsecond argument, prepended with ``\"z\"``, specifies the $z$-axis frame attributes.\nSpecifying the same scale for the ``projection`` and ``zcale`` arguments ensures equal\naxis scaling. The ``shading`` argument specifies illumination; here we choose an azimuth of\n45\u00b0 with ``shading=\"+a45\"``.\n"
      ]
    },
    {
      "cell_type": "code",
      "execution_count": null,
      "metadata": {
        "collapsed": false
      },
      "outputs": [],
      "source": [
        "import pygmt\nimport numpy as np\nimport xarray as xr\n\n\n# Define an interesting function of two variables, see:\n# https://en.wikipedia.org/wiki/Ackley_function\ndef ackley(x, y):\n    return (\n        -20 * np.exp(-0.2 * np.sqrt(0.5 * (x ** 2 + y ** 2)))\n        - np.exp(0.5 * (np.cos(2 * np.pi * x) + np.cos(2 * np.pi * y)))\n        + np.exp(1)\n        + 20\n    )\n\n\n# Create gridded data\nINC = 0.05\nx = np.arange(-5, 5 + INC, INC)\ny = np.arange(-5, 5 + INC, INC)\ndata = xr.DataArray(ackley(*np.meshgrid(x, y)), coords=(x, y))\n\nfig = pygmt.Figure()\n\n# Plot grid as a 3-D surface\nSCALE = 0.2  # [inches]\nfig.grdview(\n    data,\n    frame=[\"a5f1\", \"za5f1\"],\n    projection=f\"x{SCALE}i\",\n    zscale=f\"{SCALE}i\",\n    surftype=\"s\",\n    cmap=\"roma\",\n    perspective=[135, 30],  # Azimuth southeast (135\u00b0), at elevation 30\u00b0\n    shading=\"+a45\",\n)\n\nfig.show()"
      ]
    }
  ],
  "metadata": {
    "kernelspec": {
      "display_name": "Python 3",
      "language": "python",
      "name": "python3"
    },
    "language_info": {
      "codemirror_mode": {
        "name": "ipython",
        "version": 3
      },
      "file_extension": ".py",
      "mimetype": "text/x-python",
      "name": "python",
      "nbconvert_exporter": "python",
      "pygments_lexer": "ipython3",
      "version": "3.9.0"
    }
  },
  "nbformat": 4,
  "nbformat_minor": 0
}