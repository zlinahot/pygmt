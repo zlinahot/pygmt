{
  "cells": [
    {
      "cell_type": "code",
      "execution_count": null,
      "metadata": {
        "collapsed": false
      },
      "outputs": [],
      "source": [
        "%matplotlib inline"
      ]
    },
    {
      "cell_type": "markdown",
      "metadata": {},
      "source": [
        "\n# Points\n\nThe :meth:`pygmt.Figure.plot` method can plot points. We must specify the plot symbol\nand size through the ``style`` argument.\n"
      ]
    },
    {
      "cell_type": "code",
      "execution_count": null,
      "metadata": {
        "collapsed": false
      },
      "outputs": [],
      "source": [
        "import numpy as np\nimport pygmt\n\n# Generate a random set of points to plot\nnp.random.seed(42)\nregion = [150, 240, -10, 60]\nx = np.random.uniform(region[0], region[1], 100)\ny = np.random.uniform(region[2], region[3], 100)\n\nfig = pygmt.Figure()\n# Create a 6x6 inch basemap with a Cartesian projection (X) using the data region\nfig.basemap(region=region, projection=\"X6i\", frame=True)\n# Plot using triangles (i) of 0.5 cm\nfig.plot(x, y, style=\"i0.5c\", color=\"black\")\nfig.show()"
      ]
    }
  ],
  "metadata": {
    "kernelspec": {
      "display_name": "Python 3",
      "language": "python",
      "name": "python3"
    },
    "language_info": {
      "codemirror_mode": {
        "name": "ipython",
        "version": 3
      },
      "file_extension": ".py",
      "mimetype": "text/x-python",
      "name": "python",
      "nbconvert_exporter": "python",
      "pygments_lexer": "ipython3",
      "version": "3.9.0"
    }
  },
  "nbformat": 4,
  "nbformat_minor": 0
}