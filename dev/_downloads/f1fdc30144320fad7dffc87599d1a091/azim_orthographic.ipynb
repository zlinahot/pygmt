{
  "cells": [
    {
      "cell_type": "code",
      "execution_count": null,
      "metadata": {
        "collapsed": false
      },
      "outputs": [],
      "source": [
        "%matplotlib inline"
      ]
    },
    {
      "cell_type": "markdown",
      "metadata": {},
      "source": [
        "\n# Orthographic\n\nThis is a perspective projection like the general perspective,\nbut with the difference that the point of perspective lies in infinite distance.\nIt is therefore often used to give the appearance of a globe viewed from outer\nspace, were one hemisphere can be seen as a whole. It is neither conformal nor\nequal-area and the distortion increases near the edges.\n\n``glon0/lat0[/horizon]/scale`` or ``Glon0/lat0[/horizon]/width``\n\n``lon0/lat0`` specifies the projection center, the optional parameter ``horizon``\nspecifies the max distance from projection center (in degrees, <= 90, default 90)\n"
      ]
    },
    {
      "cell_type": "code",
      "execution_count": null,
      "metadata": {
        "collapsed": false
      },
      "outputs": [],
      "source": [
        "import pygmt\n\nfig = pygmt.Figure()\nfig.coast(projection=\"G10/52/4.5i\", region=\"g\", frame=\"g\", land=\"gray\")\nfig.show()"
      ]
    }
  ],
  "metadata": {
    "kernelspec": {
      "display_name": "Python 3",
      "language": "python",
      "name": "python3"
    },
    "language_info": {
      "codemirror_mode": {
        "name": "ipython",
        "version": 3
      },
      "file_extension": ".py",
      "mimetype": "text/x-python",
      "name": "python",
      "nbconvert_exporter": "python",
      "pygments_lexer": "ipython3",
      "version": "3.9.0"
    }
  },
  "nbformat": 4,
  "nbformat_minor": 0
}