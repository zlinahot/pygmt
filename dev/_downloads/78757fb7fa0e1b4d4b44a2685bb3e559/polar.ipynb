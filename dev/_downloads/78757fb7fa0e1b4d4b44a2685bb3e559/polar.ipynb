{
  "cells": [
    {
      "cell_type": "code",
      "execution_count": null,
      "metadata": {
        "collapsed": false
      },
      "outputs": [],
      "source": [
        "%matplotlib inline"
      ]
    },
    {
      "cell_type": "markdown",
      "metadata": {},
      "source": [
        "\n# Polar\n\n``Pwidth``: Give the ``width`` of the figure.\n"
      ]
    },
    {
      "cell_type": "code",
      "execution_count": null,
      "metadata": {
        "collapsed": false
      },
      "outputs": [],
      "source": [
        "import pygmt\n\nfig = pygmt.Figure()\nfig.plot(\n    # x inputs are the theta values for a polar plot.\n    x=[180, 120, 270, 60, 0],\n    # y inputs are the radius values for a polar plot.\n    y=[15, 35, 15, 35, 15],\n    pen=\"2p,blue\",\n    # The region values are theta-min/theta-max/radius-min/radius-max.\n    region=[0, 360, 0, 40],\n    projection=\"P15c\",\n    frame=[\"afg\"],\n)\nfig.show()"
      ]
    }
  ],
  "metadata": {
    "kernelspec": {
      "display_name": "Python 3",
      "language": "python",
      "name": "python3"
    },
    "language_info": {
      "codemirror_mode": {
        "name": "ipython",
        "version": 3
      },
      "file_extension": ".py",
      "mimetype": "text/x-python",
      "name": "python",
      "nbconvert_exporter": "python",
      "pygments_lexer": "ipython3",
      "version": "3.9.0"
    }
  },
  "nbformat": 4,
  "nbformat_minor": 0
}