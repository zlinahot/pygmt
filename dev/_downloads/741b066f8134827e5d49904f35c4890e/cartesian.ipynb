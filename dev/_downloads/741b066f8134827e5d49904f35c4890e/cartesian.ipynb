{
  "cells": [
    {
      "cell_type": "code",
      "execution_count": null,
      "metadata": {
        "collapsed": false
      },
      "outputs": [],
      "source": [
        "%matplotlib inline"
      ]
    },
    {
      "cell_type": "markdown",
      "metadata": {},
      "source": [
        "\n# Cartesian\n\n``Xwidth/[height]``: Give the ``width`` of the figure and the optional argument ``height``.\n"
      ]
    },
    {
      "cell_type": "code",
      "execution_count": null,
      "metadata": {
        "collapsed": false
      },
      "outputs": [],
      "source": [
        "import pygmt\n\nfig = pygmt.Figure()\nfig.plot(\n    # The ``x`` and ``y`` parameters are used to plot lines on the figure.\n    x=[3, 9, 2],\n    y=[4, 9, 37],\n    pen=\"3p,red\",\n    # ``region`` sets the x and y ranges or the Cartesian figure.\n    region=[0, 10, 0, 50],\n    # The argument ``WSne`` is passed to ``frame`` to put axis labels only on the left and bottom axes.\n    projection=\"X15c/10c\",\n    frame=[\"af\", \"WSne\"],\n)\nfig.show()"
      ]
    }
  ],
  "metadata": {
    "kernelspec": {
      "display_name": "Python 3",
      "language": "python",
      "name": "python3"
    },
    "language_info": {
      "codemirror_mode": {
        "name": "ipython",
        "version": 3
      },
      "file_extension": ".py",
      "mimetype": "text/x-python",
      "name": "python",
      "nbconvert_exporter": "python",
      "pygments_lexer": "ipython3",
      "version": "3.9.0"
    }
  },
  "nbformat": 4,
  "nbformat_minor": 0
}